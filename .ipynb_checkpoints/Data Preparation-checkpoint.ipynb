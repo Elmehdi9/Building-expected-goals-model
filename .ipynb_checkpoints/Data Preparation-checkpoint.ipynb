{
 "cells": [
  {
   "cell_type": "markdown",
   "id": "4344b152",
   "metadata": {},
   "source": [
    "## Building an Expected Goals (xG) Model Using Statsbomb Free Data\n",
    "A data science project using [StatsBomb](https://statsbomb.com/) event data to build an expected goals model. This notebook is the second in a series of project notebooks, in which I prepare shots data extracted and stored as a parquet file.\n",
    "\n",
    "#### By Dahbi El Mehdi\n"
   ]
  },
  {
   "cell_type": "markdown",
   "id": "a6065d41",
   "metadata": {},
   "source": [
    "___\n",
    "\n",
    "<a id='sectioncontents'></a>\n",
    "\n",
    "## <a id='notebook_contents'>Notebook Contents</a>\n",
    "1.    [Notebook Dependencies](#section1)<br>\n",
    "2.    [Notebook Brief](#section2)<br>\n",
    "3.    [Data Preparation](#section3)<br> \n",
    "4.    [Outcome](#section4)<br>"
   ]
  },
  {
   "cell_type": "markdown",
   "id": "bd1a6f33",
   "metadata": {},
   "source": [
    "___\n",
    "\n",
    "<a id='section1'></a>\n",
    "\n",
    "## <a id='#section1'>1. Notebook Dependencies</a>\n",
    "\n",
    "This notebook was written using [Python 3](https://docs.python.org/3.7/) and requires the following libraries:\n",
    "*    [`Jupyter notebooks`](https://jupyter.org/) for this notebook environment with which this project is presented;\n",
    "*    [`pandas`](http://pandas.pydata.org/) for data manipulation.\n",
    "*    [`numpy`](https://numpy.org/) for data transformation.\n"
   ]
  },
  {
   "cell_type": "code",
   "execution_count": 1,
   "id": "d49aa396",
   "metadata": {},
   "outputs": [],
   "source": [
    "# For data manipulation\n",
    "import pandas as pd\n",
    "pd.set_option('display.max_columns', None)\n",
    "\n",
    "# For geometrical calculations \n",
    "import math \n",
    "import numpy as np\n",
    "import geopandas as gpd\n",
    "from shapely.geometry import MultiPoint, Polygon, Point\n",
    "\n",
    "# Football Pitch\n",
    "from mplsoccer import Pitch"
   ]
  },
  {
   "cell_type": "code",
   "execution_count": 2,
   "id": "63d58f87",
   "metadata": {
    "scrolled": false
   },
   "outputs": [],
   "source": [
    "# Read shots dataframe\n",
    "df= pd.read_parquet('output//shots.parquet')\n",
    "df= df.loc[ ~df['shot_type'].isin( ['Penalty','Corner'])]"
   ]
  },
  {
   "cell_type": "code",
   "execution_count": 3,
   "id": "af9b76cd",
   "metadata": {},
   "outputs": [
    {
     "data": {
      "text/html": [
       "<div>\n",
       "<style scoped>\n",
       "    .dataframe tbody tr th:only-of-type {\n",
       "        vertical-align: middle;\n",
       "    }\n",
       "\n",
       "    .dataframe tbody tr th {\n",
       "        vertical-align: top;\n",
       "    }\n",
       "\n",
       "    .dataframe thead th {\n",
       "        text-align: right;\n",
       "    }\n",
       "</style>\n",
       "<table border=\"1\" class=\"dataframe\">\n",
       "  <thead>\n",
       "    <tr style=\"text-align: right;\">\n",
       "      <th></th>\n",
       "      <th>id</th>\n",
       "      <th>index</th>\n",
       "      <th>location</th>\n",
       "      <th>match_id</th>\n",
       "      <th>shot_technique</th>\n",
       "      <th>shot_body_part</th>\n",
       "      <th>shot_type</th>\n",
       "      <th>shot_outcome</th>\n",
       "      <th>shot_freeze_frame</th>\n",
       "      <th>shot_first_time</th>\n",
       "      <th>under_pressure</th>\n",
       "      <th>shot_aerial_won</th>\n",
       "      <th>shot_open_goal</th>\n",
       "      <th>out</th>\n",
       "      <th>shot_one_on_one</th>\n",
       "      <th>shot_saved_to_post</th>\n",
       "      <th>shot_deflected</th>\n",
       "      <th>shot_follows_dribble</th>\n",
       "      <th>shot_saved_off_target</th>\n",
       "      <th>shot_redirect</th>\n",
       "      <th>off_camera</th>\n",
       "      <th>shot_kick_off</th>\n",
       "    </tr>\n",
       "  </thead>\n",
       "  <tbody>\n",
       "    <tr>\n",
       "      <th>0</th>\n",
       "      <td>8975991a-ecaa-47ef-8b98-86e09c242131</td>\n",
       "      <td>183</td>\n",
       "      <td>[104.1, 27.2]</td>\n",
       "      <td>3869254</td>\n",
       "      <td>Normal</td>\n",
       "      <td>Left Foot</td>\n",
       "      <td>Open Play</td>\n",
       "      <td>Blocked</td>\n",
       "      <td>[{'location': [105.8, 49.8], 'player': {'id': ...</td>\n",
       "      <td>None</td>\n",
       "      <td>None</td>\n",
       "      <td>None</td>\n",
       "      <td>None</td>\n",
       "      <td>None</td>\n",
       "      <td>None</td>\n",
       "      <td>None</td>\n",
       "      <td>None</td>\n",
       "      <td>None</td>\n",
       "      <td>None</td>\n",
       "      <td>None</td>\n",
       "      <td>None</td>\n",
       "      <td>None</td>\n",
       "    </tr>\n",
       "    <tr>\n",
       "      <th>1</th>\n",
       "      <td>fead457a-c1a7-42f4-84a6-ab7698e9df5e</td>\n",
       "      <td>750</td>\n",
       "      <td>[111.3, 27.5]</td>\n",
       "      <td>3869254</td>\n",
       "      <td>Normal</td>\n",
       "      <td>Left Foot</td>\n",
       "      <td>Open Play</td>\n",
       "      <td>Goal</td>\n",
       "      <td>[{'location': [85.5, 24.6], 'player': {'id': 3...</td>\n",
       "      <td>None</td>\n",
       "      <td>None</td>\n",
       "      <td>None</td>\n",
       "      <td>None</td>\n",
       "      <td>None</td>\n",
       "      <td>None</td>\n",
       "      <td>None</td>\n",
       "      <td>None</td>\n",
       "      <td>None</td>\n",
       "      <td>None</td>\n",
       "      <td>None</td>\n",
       "      <td>None</td>\n",
       "      <td>None</td>\n",
       "    </tr>\n",
       "    <tr>\n",
       "      <th>2</th>\n",
       "      <td>e616c23c-786b-487b-a35d-af91f8d575ee</td>\n",
       "      <td>858</td>\n",
       "      <td>[101.4, 36.8]</td>\n",
       "      <td>3869254</td>\n",
       "      <td>Half Volley</td>\n",
       "      <td>Right Foot</td>\n",
       "      <td>Open Play</td>\n",
       "      <td>Saved</td>\n",
       "      <td>[{'location': [96.5, 59.6], 'player': {'id': 1...</td>\n",
       "      <td>True</td>\n",
       "      <td>None</td>\n",
       "      <td>None</td>\n",
       "      <td>None</td>\n",
       "      <td>None</td>\n",
       "      <td>None</td>\n",
       "      <td>None</td>\n",
       "      <td>None</td>\n",
       "      <td>None</td>\n",
       "      <td>None</td>\n",
       "      <td>None</td>\n",
       "      <td>None</td>\n",
       "      <td>None</td>\n",
       "    </tr>\n",
       "    <tr>\n",
       "      <th>3</th>\n",
       "      <td>47cd9da1-eb07-4544-aca9-9fb5f2956055</td>\n",
       "      <td>899</td>\n",
       "      <td>[100.7, 32.2]</td>\n",
       "      <td>3869254</td>\n",
       "      <td>Normal</td>\n",
       "      <td>Right Foot</td>\n",
       "      <td>Open Play</td>\n",
       "      <td>Saved</td>\n",
       "      <td>[{'location': [93.5, 47.8], 'player': {'id': 3...</td>\n",
       "      <td>True</td>\n",
       "      <td>None</td>\n",
       "      <td>None</td>\n",
       "      <td>None</td>\n",
       "      <td>None</td>\n",
       "      <td>None</td>\n",
       "      <td>None</td>\n",
       "      <td>None</td>\n",
       "      <td>None</td>\n",
       "      <td>None</td>\n",
       "      <td>None</td>\n",
       "      <td>None</td>\n",
       "      <td>None</td>\n",
       "    </tr>\n",
       "    <tr>\n",
       "      <th>4</th>\n",
       "      <td>c176824b-e608-4b52-98c4-f328748925b7</td>\n",
       "      <td>1108</td>\n",
       "      <td>[87.2, 46.1]</td>\n",
       "      <td>3869254</td>\n",
       "      <td>Normal</td>\n",
       "      <td>Left Foot</td>\n",
       "      <td>Free Kick</td>\n",
       "      <td>Saved</td>\n",
       "      <td>[{'location': [99.6, 36.7], 'player': {'id': 2...</td>\n",
       "      <td>None</td>\n",
       "      <td>None</td>\n",
       "      <td>None</td>\n",
       "      <td>None</td>\n",
       "      <td>None</td>\n",
       "      <td>None</td>\n",
       "      <td>None</td>\n",
       "      <td>None</td>\n",
       "      <td>None</td>\n",
       "      <td>None</td>\n",
       "      <td>None</td>\n",
       "      <td>None</td>\n",
       "      <td>None</td>\n",
       "    </tr>\n",
       "  </tbody>\n",
       "</table>\n",
       "</div>"
      ],
      "text/plain": [
       "                                     id  index       location  match_id  \\\n",
       "0  8975991a-ecaa-47ef-8b98-86e09c242131    183  [104.1, 27.2]   3869254   \n",
       "1  fead457a-c1a7-42f4-84a6-ab7698e9df5e    750  [111.3, 27.5]   3869254   \n",
       "2  e616c23c-786b-487b-a35d-af91f8d575ee    858  [101.4, 36.8]   3869254   \n",
       "3  47cd9da1-eb07-4544-aca9-9fb5f2956055    899  [100.7, 32.2]   3869254   \n",
       "4  c176824b-e608-4b52-98c4-f328748925b7   1108   [87.2, 46.1]   3869254   \n",
       "\n",
       "  shot_technique shot_body_part  shot_type shot_outcome  \\\n",
       "0         Normal      Left Foot  Open Play      Blocked   \n",
       "1         Normal      Left Foot  Open Play         Goal   \n",
       "2    Half Volley     Right Foot  Open Play        Saved   \n",
       "3         Normal     Right Foot  Open Play        Saved   \n",
       "4         Normal      Left Foot  Free Kick        Saved   \n",
       "\n",
       "                                   shot_freeze_frame shot_first_time  \\\n",
       "0  [{'location': [105.8, 49.8], 'player': {'id': ...            None   \n",
       "1  [{'location': [85.5, 24.6], 'player': {'id': 3...            None   \n",
       "2  [{'location': [96.5, 59.6], 'player': {'id': 1...            True   \n",
       "3  [{'location': [93.5, 47.8], 'player': {'id': 3...            True   \n",
       "4  [{'location': [99.6, 36.7], 'player': {'id': 2...            None   \n",
       "\n",
       "  under_pressure shot_aerial_won shot_open_goal   out shot_one_on_one  \\\n",
       "0           None            None           None  None            None   \n",
       "1           None            None           None  None            None   \n",
       "2           None            None           None  None            None   \n",
       "3           None            None           None  None            None   \n",
       "4           None            None           None  None            None   \n",
       "\n",
       "  shot_saved_to_post shot_deflected shot_follows_dribble  \\\n",
       "0               None           None                 None   \n",
       "1               None           None                 None   \n",
       "2               None           None                 None   \n",
       "3               None           None                 None   \n",
       "4               None           None                 None   \n",
       "\n",
       "  shot_saved_off_target shot_redirect off_camera shot_kick_off  \n",
       "0                  None          None       None          None  \n",
       "1                  None          None       None          None  \n",
       "2                  None          None       None          None  \n",
       "3                  None          None       None          None  \n",
       "4                  None          None       None          None  "
      ]
     },
     "execution_count": 3,
     "metadata": {},
     "output_type": "execute_result"
    }
   ],
   "source": [
    "# Dropping columns\n",
    "columns_to_drop= [\"period\", \"timestamp\", \"minute\", \"second\", \"type\", \"possession\",\n",
    "                  \"possession_team\", \"play_pattern\", \"team\", \"player\", \"position\", \"duration\",\n",
    "                  \"shot_key_pass_id\", \"shot_statsbomb_xg\", \"possession_team_id\",\n",
    "                  \"player_id\", \"shot_end_location\", \"related_events\"]\n",
    "\n",
    "df= df.drop(columns= columns_to_drop)\n",
    "df.head()"
   ]
  },
  {
   "cell_type": "code",
   "execution_count": 4,
   "id": "8c86fb7a",
   "metadata": {},
   "outputs": [],
   "source": [
    "# Find columns where more than 85% of the values are None\n",
    "to_drop = [col for col in df.columns if df[col].isnull().mean() > 0.85]\n",
    "\n",
    "# Drop these columns\n",
    "df = df.drop(columns=to_drop)"
   ]
  },
  {
   "cell_type": "code",
   "execution_count": 5,
   "id": "65476b7d",
   "metadata": {},
   "outputs": [],
   "source": [
    "# Extracting both elemnts of the array as X(first element) and Y(second element)\n",
    "df[['X','Y']] = df['location'].apply(lambda x: pd.Series(x, index=['X', 'Y']))\n",
    "df.drop(columns=['location'], inplace=True)"
   ]
  },
  {
   "cell_type": "code",
   "execution_count": 6,
   "id": "e8605909",
   "metadata": {},
   "outputs": [],
   "source": [
    "# Let's make two more columns with the potential to be features.\n",
    "# 1. shot_angle\n",
    "right_post= 36\n",
    "center_width= 40\n",
    "goal_width= 8\n",
    "\n",
    "dx = abs(right_post - df.X)\n",
    "dy = abs(40 - df.Y)\n",
    "df['shot_angle'] = np.arctan2(goal_width * dx , (dx**2 + dy**2 - (goal_width / 2.) ** 2))\n",
    "\n",
    "# 2. distance_to_goal\n",
    "df['distance_to_goal'] = (((df['X']-104)**2 + (df['Y']-38)**2)**(1/2))"
   ]
  },
  {
   "cell_type": "code",
   "execution_count": 7,
   "id": "df05e248",
   "metadata": {},
   "outputs": [
    {
     "name": "stdout",
     "output_type": "stream",
     "text": [
      "Unique values of Shot_body_part column: ['Left Foot' 'Right Foot' 'Head' 'Other']\n",
      "Unique values of Shot_outcome column: ['Blocked' 'Goal' 'Saved' 'Off T' 'Wayward' 'Post' 'Saved to Post'\n",
      " 'Saved Off Target']\n"
     ]
    }
   ],
   "source": [
    "print(\"Unique values of Shot_body_part column: \"+ str(df.shot_body_part.unique())+ \"\\n\"+ \n",
    "      \"Unique values of Shot_outcome column: \"+ str(df.shot_outcome.unique()) )\n"
   ]
  },
  {
   "cell_type": "markdown",
   "id": "af199b67",
   "metadata": {},
   "source": [
    "- A player can shoot the ball with his or her foot (either right or left), head, or other body parts. It makes appropriate to divide the column values into three categories: foot, head, and other.\n",
    "\n",
    "- A shot either results in a goal or does not. As a result, we'll mark shots as either Goal or No_Goal."
   ]
  },
  {
   "cell_type": "code",
   "execution_count": 8,
   "id": "7bec6610",
   "metadata": {},
   "outputs": [],
   "source": [
    "df[\"shot_body_part\"]= df[\"shot_body_part\"].replace([\"Left Foot\",\"Right Foot\"], \"Foot\")\n",
    "\n",
    "df[\"shot_outcome\"]= df[\"shot_outcome\"].replace([\"Blocked\", \"Saved\", \"Off T\", \"Wayward\", \"Post\", \"Saved to Post\",\n",
    "                                                \"Saved Off Target\"], \"No_Goal\")"
   ]
  },
  {
   "cell_type": "markdown",
   "id": "34cca2b3",
   "metadata": {},
   "source": [
    "Shot_freeze_frame features:\n",
    "- Number of defenders in shot angle to goal.\n",
    "- Goalkeeper location (x,y) "
   ]
  },
  {
   "cell_type": "markdown",
   "id": "b251f697",
   "metadata": {},
   "source": [
    "Extracting the coordinates of the Goalkeeper's location"
   ]
  },
  {
   "cell_type": "code",
   "execution_count": 9,
   "id": "b0390a7a",
   "metadata": {
    "scrolled": true
   },
   "outputs": [],
   "source": [
    "events_id= list(df.id)\n",
    "shot_frames= list(df.shot_freeze_frame)\n",
    "rows=[]\n",
    "for event_id, frame in zip(events_id, shot_frames):\n",
    "    for i in frame:\n",
    "        rows.append((event_id, i['location'][0], i['location'][1], i['position']['name'],i['teammate']))\n",
    "        \n",
    "df_shot_frame= pd.DataFrame(data= rows, columns=[\"id\", \"x\", \"y\", \"position\", \"teammate\"])\n",
    "df_shot_frame= df_shot_frame.loc[(df_shot_frame['position']== \"Goalkeeper\") & (df_shot_frame['teammate']== False)]\n",
    "df= df.merge(df_shot_frame[[\"id\",\"x\", \"y\"]], on= \"id\")\n",
    "\n",
    "df.rename({'x': 'goalkeeper_x',\n",
    "                    'y': 'goalkeeper_y'},\n",
    "                   axis=1, inplace=True)"
   ]
  },
  {
   "cell_type": "markdown",
   "id": "14b2590b",
   "metadata": {},
   "source": [
    "As of currently, the number of players locations that intersect with the polygon representing the shooting angle is too high. I'm still exploring for further ways to extract from the shot freeze frame column. I've chosen not to include it for the time being, but if you're interested, you can get it through the statsboomb API instead of flattening the column."
   ]
  },
  {
   "cell_type": "code",
   "execution_count": 10,
   "id": "e558fffc",
   "metadata": {
    "scrolled": true
   },
   "outputs": [],
   "source": [
    "statsbomb_pitch = Pitch()\n",
    "vertices = np.zeros((len(df), 3, 2))\n",
    "vertices[:, 1:, :] = statsbomb_pitch.goal_right\n",
    "vertices[:, 0, :] = df[['X','Y']] .values\n",
    "vertices = gpd.GeoSeries([Polygon(vert) for vert in vertices])\n",
    "vertices = gpd.GeoDataFrame({'id': df['id'], 'shot_polygon': gpd.GeoSeries(vertices)})\n",
    "\n",
    "player_positions = gpd.GeoSeries.from_xy(df_shot_frame['x'], df_shot_frame['y'])\n",
    "player_positions = gpd.GeoDataFrame({'id': df_shot_frame['id'], 'position': player_positions})\n",
    "\n",
    "player_positions = gpd.GeoDataFrame(player_positions.merge(vertices, on='id'))\n",
    "\n",
    "# add a mask for whether the player intersects with the goal angle\n",
    "player_positions['n_defenders'] = player_positions['position'].intersects(player_positions['shot_polygon'])\n",
    "df_shot_frame = df_shot_frame.merge(player_positions[['id', 'n_defenders']],\n",
    "                                                on=['id'])\n",
    "\n",
    "# calculate the number of defenders in the goal angle\n",
    "df_num_of_defenders = df_shot_frame[df_shot_frame['teammate'] == True].groupby('id')[\"n_defenders\"].sum().reset_index()"
   ]
  },
  {
   "cell_type": "code",
   "execution_count": 11,
   "id": "bcebf7ca",
   "metadata": {
    "scrolled": true
   },
   "outputs": [
    {
     "name": "stdout",
     "output_type": "stream",
     "text": [
      "POLYGON ((104.1 27.2, 120 44, 120 36, 104.1 27.2))\n"
     ]
    },
    {
     "data": {
      "image/svg+xml": [
       "<svg xmlns=\"http://www.w3.org/2000/svg\" xmlns:xlink=\"http://www.w3.org/1999/xlink\" width=\"100.0\" height=\"100.0\" viewBox=\"103.428 26.528 17.244 18.144\" preserveAspectRatio=\"xMinYMin meet\"><g transform=\"matrix(1,0,0,-1,0,71.19999999999999)\"><path fill-rule=\"evenodd\" fill=\"#66cc99\" stroke=\"#555555\" stroke-width=\"0.36288\" opacity=\"0.6\" d=\"M 104.1,27.2 L 120.0,44.0 L 120.0,36.0 L 104.1,27.2 z\" /></g></svg>"
      ],
      "text/plain": [
       "<POLYGON ((104.1 27.2, 120 44, 120 36, 104.1 27.2))>"
      ]
     },
     "execution_count": 11,
     "metadata": {},
     "output_type": "execute_result"
    }
   ],
   "source": [
    "# Here's an example of the shot angle between the location from where the shot was taken and the goal posts. \n",
    "print(vertices['shot_polygon'][0])\n",
    "vertices['shot_polygon'][0]"
   ]
  },
  {
   "cell_type": "code",
   "execution_count": 12,
   "id": "a59ef971",
   "metadata": {},
   "outputs": [
    {
     "data": {
      "text/html": [
       "<div>\n",
       "<style scoped>\n",
       "    .dataframe tbody tr th:only-of-type {\n",
       "        vertical-align: middle;\n",
       "    }\n",
       "\n",
       "    .dataframe tbody tr th {\n",
       "        vertical-align: top;\n",
       "    }\n",
       "\n",
       "    .dataframe thead th {\n",
       "        text-align: right;\n",
       "    }\n",
       "</style>\n",
       "<table border=\"1\" class=\"dataframe\">\n",
       "  <thead>\n",
       "    <tr style=\"text-align: right;\">\n",
       "      <th></th>\n",
       "      <th>id</th>\n",
       "      <th>index</th>\n",
       "      <th>match_id</th>\n",
       "      <th>shot_technique</th>\n",
       "      <th>shot_body_part</th>\n",
       "      <th>shot_type</th>\n",
       "      <th>shot_outcome</th>\n",
       "      <th>shot_first_time</th>\n",
       "      <th>under_pressure</th>\n",
       "      <th>X</th>\n",
       "      <th>Y</th>\n",
       "      <th>shot_angle</th>\n",
       "      <th>distance_to_goal</th>\n",
       "      <th>goalkeeper_x</th>\n",
       "      <th>goalkeeper_y</th>\n",
       "    </tr>\n",
       "  </thead>\n",
       "  <tbody>\n",
       "    <tr>\n",
       "      <th>0</th>\n",
       "      <td>8975991a-ecaa-47ef-8b98-86e09c242131</td>\n",
       "      <td>183</td>\n",
       "      <td>3869254</td>\n",
       "      <td>Normal</td>\n",
       "      <td>Foot</td>\n",
       "      <td>Open Play</td>\n",
       "      <td>No_Goal</td>\n",
       "      <td>None</td>\n",
       "      <td>None</td>\n",
       "      <td>104.1</td>\n",
       "      <td>27.2</td>\n",
       "      <td>0.113357</td>\n",
       "      <td>10.800463</td>\n",
       "      <td>117.7</td>\n",
       "      <td>37.3</td>\n",
       "    </tr>\n",
       "    <tr>\n",
       "      <th>1</th>\n",
       "      <td>fead457a-c1a7-42f4-84a6-ab7698e9df5e</td>\n",
       "      <td>750</td>\n",
       "      <td>3869254</td>\n",
       "      <td>Normal</td>\n",
       "      <td>Foot</td>\n",
       "      <td>Open Play</td>\n",
       "      <td>Goal</td>\n",
       "      <td>None</td>\n",
       "      <td>None</td>\n",
       "      <td>111.3</td>\n",
       "      <td>27.5</td>\n",
       "      <td>0.103308</td>\n",
       "      <td>12.788276</td>\n",
       "      <td>119.1</td>\n",
       "      <td>36.7</td>\n",
       "    </tr>\n",
       "  </tbody>\n",
       "</table>\n",
       "</div>"
      ],
      "text/plain": [
       "                                     id  index  match_id shot_technique  \\\n",
       "0  8975991a-ecaa-47ef-8b98-86e09c242131    183   3869254         Normal   \n",
       "1  fead457a-c1a7-42f4-84a6-ab7698e9df5e    750   3869254         Normal   \n",
       "\n",
       "  shot_body_part  shot_type shot_outcome shot_first_time under_pressure  \\\n",
       "0           Foot  Open Play      No_Goal            None           None   \n",
       "1           Foot  Open Play         Goal            None           None   \n",
       "\n",
       "       X     Y  shot_angle  distance_to_goal  goalkeeper_x  goalkeeper_y  \n",
       "0  104.1  27.2    0.113357         10.800463         117.7          37.3  \n",
       "1  111.3  27.5    0.103308         12.788276         119.1          36.7  "
      ]
     },
     "execution_count": 12,
     "metadata": {},
     "output_type": "execute_result"
    }
   ],
   "source": [
    "df.drop(columns=['shot_freeze_frame'], inplace= True)\n",
    "df.head(2)"
   ]
  },
  {
   "cell_type": "markdown",
   "id": "75e5040c",
   "metadata": {},
   "source": [
    "Saving data"
   ]
  },
  {
   "cell_type": "code",
   "execution_count": 13,
   "id": "4d6493f7",
   "metadata": {},
   "outputs": [],
   "source": [
    "# Saving our shots dataframe as parquet file\n",
    "df.to_parquet('output//prep_shots.parquet')"
   ]
  }
 ],
 "metadata": {
  "kernelspec": {
   "display_name": "Python 3 (ipykernel)",
   "language": "python",
   "name": "python3"
  },
  "language_info": {
   "codemirror_mode": {
    "name": "ipython",
    "version": 3
   },
   "file_extension": ".py",
   "mimetype": "text/x-python",
   "name": "python",
   "nbconvert_exporter": "python",
   "pygments_lexer": "ipython3",
   "version": "3.9.12"
  }
 },
 "nbformat": 4,
 "nbformat_minor": 5
}
